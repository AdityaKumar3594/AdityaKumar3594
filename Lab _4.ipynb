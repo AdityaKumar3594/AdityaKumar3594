{
  "nbformat": 4,
  "nbformat_minor": 0,
  "metadata": {
    "colab": {
      "provenance": [],
      "authorship_tag": "ABX9TyO5CVJE3OF/VVVF05c1S/DZ",
      "include_colab_link": true
    },
    "kernelspec": {
      "name": "python3",
      "display_name": "Python 3"
    },
    "language_info": {
      "name": "python"
    }
  },
  "cells": [
    {
      "cell_type": "markdown",
      "metadata": {
        "id": "view-in-github",
        "colab_type": "text"
      },
      "source": [
        "<a href=\"https://colab.research.google.com/github/AdityaKumar3594/AdityaKumar3594/blob/main/Lab%20_4.ipynb\" target=\"_parent\"><img src=\"https://colab.research.google.com/assets/colab-badge.svg\" alt=\"Open In Colab\"/></a>"
      ]
    },
    {
      "cell_type": "markdown",
      "source": [
        "Filter based methods\n",
        "    \n",
        "     SelectKBest: It selects k highest scoring features based on a function and removes the rest of the features.\n",
        "     Lets take an example of California Housing dataset.\n",
        "     \n",
        "     import numpy as np\n",
        "     from sklearn.datasets import fetch_california_housing\n",
        "     …………\n",
        "1)download data and select a subset X_california[:2000, :], y_california[:2000]\n",
        "\n",
        "2)Calculate Shape of feature matrix before feature selection\n",
        "\n",
        "3)Select 3 most important features, since it is a regression problem, we can use only mutual_info_regression or f_regression scoring functions only. Calculate shape of feature matrix after feature selection\n",
        "\n",
        "\n",
        "\n",
        "\n"
      ],
      "metadata": {
        "id": "z-0aCylPrvRL"
      }
    },
    {
      "cell_type": "code",
      "execution_count": null,
      "metadata": {
        "id": "XRe0qX4Sqv2D"
      },
      "outputs": [],
      "source": [
        "import numpy as np\n",
        "from sklearn.datasets import fetch_california_housing\n",
        "from sklearn.feature_selection import SelectKBest\n",
        "from sklearn.feature_selection import mutual_info_regression"
      ]
    }
  ]
}